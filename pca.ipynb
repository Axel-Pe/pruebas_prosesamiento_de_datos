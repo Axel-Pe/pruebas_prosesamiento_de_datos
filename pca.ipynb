{
 "cells": [
  {
   "cell_type": "code",
   "execution_count": 3,
   "metadata": {},
   "outputs": [
    {
     "name": "stdout",
     "output_type": "stream",
     "text": [
      "Collecting mglearn\n",
      "  Downloading https://files.pythonhosted.org/packages/fb/01/8d3630ecc767c9de96a9c46e055f2a3a5f9e14a47d3d0348a36a5005fe67/mglearn-0.1.7.tar.gz (540kB)\n",
      "Requirement already satisfied: numpy in c:\\users\\axel\\anaconda3\\lib\\site-packages (from mglearn) (1.16.1)\n",
      "Requirement already satisfied: matplotlib in c:\\users\\axel\\anaconda3\\lib\\site-packages (from mglearn) (3.0.2)\n",
      "Requirement already satisfied: scikit-learn in c:\\users\\axel\\anaconda3\\lib\\site-packages (from mglearn) (0.20.1)\n",
      "Requirement already satisfied: pandas in c:\\users\\axel\\anaconda3\\lib\\site-packages (from mglearn) (0.23.4)\n",
      "Requirement already satisfied: pillow in c:\\users\\axel\\anaconda3\\lib\\site-packages (from mglearn) (5.3.0)\n",
      "Requirement already satisfied: cycler in c:\\users\\axel\\anaconda3\\lib\\site-packages (from mglearn) (0.10.0)\n",
      "Requirement already satisfied: imageio in c:\\users\\axel\\anaconda3\\lib\\site-packages (from mglearn) (2.4.1)\n",
      "Requirement already satisfied: kiwisolver>=1.0.1 in c:\\users\\axel\\anaconda3\\lib\\site-packages (from matplotlib->mglearn) (1.0.1)\n",
      "Requirement already satisfied: pyparsing!=2.0.4,!=2.1.2,!=2.1.6,>=2.0.1 in c:\\users\\axel\\anaconda3\\lib\\site-packages (from matplotlib->mglearn) (2.3.0)\n",
      "Requirement already satisfied: python-dateutil>=2.1 in c:\\users\\axel\\anaconda3\\lib\\site-packages (from matplotlib->mglearn) (2.7.5)\n",
      "Requirement already satisfied: scipy>=0.13.3 in c:\\users\\axel\\anaconda3\\lib\\site-packages (from scikit-learn->mglearn) (1.1.0)\n",
      "Requirement already satisfied: pytz>=2011k in c:\\users\\axel\\anaconda3\\lib\\site-packages (from pandas->mglearn) (2018.7)\n",
      "Requirement already satisfied: six in c:\\users\\axel\\anaconda3\\lib\\site-packages (from cycler->mglearn) (1.12.0)\n",
      "Requirement already satisfied: setuptools in c:\\users\\axel\\anaconda3\\lib\\site-packages (from kiwisolver>=1.0.1->matplotlib->mglearn) (40.6.3)\n",
      "Building wheels for collected packages: mglearn\n",
      "  Running setup.py bdist_wheel for mglearn: started\n",
      "  Running setup.py bdist_wheel for mglearn: finished with status 'done'\n",
      "  Stored in directory: C:\\Users\\axel\\AppData\\Local\\pip\\Cache\\wheels\\74\\cf\\8d\\04f4932d15854a36726c6210763c7127e62de28f5c8ddfcf3b\n",
      "Successfully built mglearn\n",
      "Installing collected packages: mglearn\n",
      "Successfully installed mglearn-0.1.7\n"
     ]
    }
   ],
   "source": [
    "!pip install mglearn"
   ]
  },
  {
   "cell_type": "code",
   "execution_count": 4,
   "metadata": {},
   "outputs": [],
   "source": [
    "import sklearn\n",
    "import mglearn\n",
    "from sklearn.datasets import load_breast_cancer\n",
    "import matplotlib.pyplot as plt\n",
    "from sklearn.decomposition import PCA\n",
    "%matplotlib inline "
   ]
  },
  {
   "cell_type": "code",
   "execution_count": null,
   "metadata": {},
   "outputs": [],
   "source": []
  }
 ],
 "metadata": {
  "kernelspec": {
   "display_name": "Python 3",
   "language": "python",
   "name": "python3"
  },
  "language_info": {
   "codemirror_mode": {
    "name": "ipython",
    "version": 3
   },
   "file_extension": ".py",
   "mimetype": "text/x-python",
   "name": "python",
   "nbconvert_exporter": "python",
   "pygments_lexer": "ipython3",
   "version": "3.7.1"
  }
 },
 "nbformat": 4,
 "nbformat_minor": 2
}
