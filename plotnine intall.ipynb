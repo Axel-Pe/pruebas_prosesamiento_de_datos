{
 "cells": [
  {
   "cell_type": "code",
   "execution_count": 1,
   "metadata": {},
   "outputs": [
    {
     "name": "stdout",
     "output_type": "stream",
     "text": [
      "Collecting plotnine\n",
      "  Downloading https://files.pythonhosted.org/packages/84/02/b171c828560aea3a5da1efda464230dac3ef4f4834b88e0bd52ad14a08f0/plotnine-0.5.1-py2.py3-none-any.whl (3.6MB)\n",
      "Requirement already satisfied: statsmodels>=0.8.0 in c:\\users\\axel\\anaconda3\\lib\\site-packages (from plotnine) (0.9.0)\n",
      "Requirement already satisfied: numpy in c:\\users\\axel\\anaconda3\\lib\\site-packages (from plotnine) (1.16.1)\n",
      "Requirement already satisfied: patsy>=0.4.1 in c:\\users\\axel\\anaconda3\\lib\\site-packages (from plotnine) (0.5.1)\n",
      "Requirement already satisfied: matplotlib>=3.0.0 in c:\\users\\axel\\anaconda3\\lib\\site-packages (from plotnine) (3.0.2)\n",
      "Collecting mizani>=0.5.2 (from plotnine)\n",
      "  Downloading https://files.pythonhosted.org/packages/d6/57/dd70eedf5d85cb328f73bbc661b7680f15bfebb07d8dabc3bda7de9faa7c/mizani-0.5.4-py2.py3-none-any.whl (58kB)\n",
      "Requirement already satisfied: pandas>=0.23.4 in c:\\users\\axel\\anaconda3\\lib\\site-packages (from plotnine) (0.23.4)\n",
      "Requirement already satisfied: scipy>=1.0.0 in c:\\users\\axel\\anaconda3\\lib\\site-packages (from plotnine) (1.1.0)\n",
      "Collecting descartes>=1.1.0 (from plotnine)\n",
      "  Downloading https://files.pythonhosted.org/packages/e5/b6/1ed2eb03989ae574584664985367ba70cd9cf8b32ee8cad0e8aaeac819f3/descartes-1.1.0-py3-none-any.whl\n",
      "Requirement already satisfied: six in c:\\users\\axel\\anaconda3\\lib\\site-packages (from patsy>=0.4.1->plotnine) (1.12.0)\n",
      "Requirement already satisfied: cycler>=0.10 in c:\\users\\axel\\anaconda3\\lib\\site-packages (from matplotlib>=3.0.0->plotnine) (0.10.0)\n",
      "Requirement already satisfied: kiwisolver>=1.0.1 in c:\\users\\axel\\anaconda3\\lib\\site-packages (from matplotlib>=3.0.0->plotnine) (1.0.1)\n",
      "Requirement already satisfied: pyparsing!=2.0.4,!=2.1.2,!=2.1.6,>=2.0.1 in c:\\users\\axel\\anaconda3\\lib\\site-packages (from matplotlib>=3.0.0->plotnine) (2.3.0)\n",
      "Requirement already satisfied: python-dateutil>=2.1 in c:\\users\\axel\\anaconda3\\lib\\site-packages (from matplotlib>=3.0.0->plotnine) (2.7.5)\n",
      "Collecting palettable (from mizani>=0.5.2->plotnine)\n",
      "  Downloading https://files.pythonhosted.org/packages/56/8a/84537c0354f0d1f03bf644b71bf8e0a50db9c1294181905721a5f3efbf66/palettable-3.1.1-py2.py3-none-any.whl (77kB)\n",
      "Requirement already satisfied: pytz>=2011k in c:\\users\\axel\\anaconda3\\lib\\site-packages (from pandas>=0.23.4->plotnine) (2018.7)\n",
      "Requirement already satisfied: setuptools in c:\\users\\axel\\anaconda3\\lib\\site-packages (from kiwisolver>=1.0.1->matplotlib>=3.0.0->plotnine) (40.6.3)\n",
      "Installing collected packages: palettable, mizani, descartes, plotnine\n",
      "Successfully installed descartes-1.1.0 mizani-0.5.4 palettable-3.1.1 plotnine-0.5.1\n"
     ]
    }
   ],
   "source": [
    "!pip install plotnine "
   ]
  }
 ],
 "metadata": {
  "kernelspec": {
   "display_name": "Python 3",
   "language": "python",
   "name": "python3"
  },
  "language_info": {
   "codemirror_mode": {
    "name": "ipython",
    "version": 3
   },
   "file_extension": ".py",
   "mimetype": "text/x-python",
   "name": "python",
   "nbconvert_exporter": "python",
   "pygments_lexer": "ipython3",
   "version": "3.7.1"
  }
 },
 "nbformat": 4,
 "nbformat_minor": 2
}
